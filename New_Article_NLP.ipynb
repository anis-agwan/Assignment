{
 "cells": [
  {
   "cell_type": "code",
   "execution_count": 6,
   "metadata": {},
   "outputs": [
    {
     "name": "stderr",
     "output_type": "stream",
     "text": [
      "[nltk_data] Downloading package stopwords to\n",
      "[nltk_data]     C:\\Users\\123\\AppData\\Roaming\\nltk_data...\n",
      "[nltk_data]   Package stopwords is already up-to-date!\n"
     ]
    }
   ],
   "source": [
    "import numpy as np\n",
    "import pandas as pd\n",
    "import re\n",
    "import nltk\n",
    "nltk.download('stopwords')\n",
    "from nltk.corpus import stopwords\n",
    "from nltk.stem.porter import PorterStemmer"
   ]
  },
  {
   "cell_type": "code",
   "execution_count": 7,
   "metadata": {},
   "outputs": [
    {
     "data": {
      "text/html": [
       "<div>\n",
       "<style scoped>\n",
       "    .dataframe tbody tr th:only-of-type {\n",
       "        vertical-align: middle;\n",
       "    }\n",
       "\n",
       "    .dataframe tbody tr th {\n",
       "        vertical-align: top;\n",
       "    }\n",
       "\n",
       "    .dataframe thead th {\n",
       "        text-align: right;\n",
       "    }\n",
       "</style>\n",
       "<table border=\"1\" class=\"dataframe\">\n",
       "  <thead>\n",
       "    <tr style=\"text-align: right;\">\n",
       "      <th></th>\n",
       "      <th>ArticleId</th>\n",
       "      <th>Text</th>\n",
       "      <th>Category</th>\n",
       "    </tr>\n",
       "  </thead>\n",
       "  <tbody>\n",
       "    <tr>\n",
       "      <th>0</th>\n",
       "      <td>1833</td>\n",
       "      <td>worldcom ex-boss launches defence lawyers defe...</td>\n",
       "      <td>business</td>\n",
       "    </tr>\n",
       "    <tr>\n",
       "      <th>1</th>\n",
       "      <td>154</td>\n",
       "      <td>german business confidence slides german busin...</td>\n",
       "      <td>business</td>\n",
       "    </tr>\n",
       "    <tr>\n",
       "      <th>2</th>\n",
       "      <td>1101</td>\n",
       "      <td>bbc poll indicates economic gloom citizens in ...</td>\n",
       "      <td>business</td>\n",
       "    </tr>\n",
       "    <tr>\n",
       "      <th>3</th>\n",
       "      <td>1976</td>\n",
       "      <td>lifestyle  governs mobile choice  faster  bett...</td>\n",
       "      <td>tech</td>\n",
       "    </tr>\n",
       "    <tr>\n",
       "      <th>4</th>\n",
       "      <td>917</td>\n",
       "      <td>enron bosses in $168m payout eighteen former e...</td>\n",
       "      <td>business</td>\n",
       "    </tr>\n",
       "  </tbody>\n",
       "</table>\n",
       "</div>"
      ],
      "text/plain": [
       "   ArticleId                                               Text  Category\n",
       "0       1833  worldcom ex-boss launches defence lawyers defe...  business\n",
       "1        154  german business confidence slides german busin...  business\n",
       "2       1101  bbc poll indicates economic gloom citizens in ...  business\n",
       "3       1976  lifestyle  governs mobile choice  faster  bett...      tech\n",
       "4        917  enron bosses in $168m payout eighteen former e...  business"
      ]
     },
     "execution_count": 7,
     "metadata": {},
     "output_type": "execute_result"
    }
   ],
   "source": [
    "train_df = pd.read_csv('BBC News Train.csv')\n",
    "train_df.head()"
   ]
  },
  {
   "cell_type": "code",
   "execution_count": 8,
   "metadata": {},
   "outputs": [
    {
     "data": {
      "text/html": [
       "<div>\n",
       "<style scoped>\n",
       "    .dataframe tbody tr th:only-of-type {\n",
       "        vertical-align: middle;\n",
       "    }\n",
       "\n",
       "    .dataframe tbody tr th {\n",
       "        vertical-align: top;\n",
       "    }\n",
       "\n",
       "    .dataframe thead th {\n",
       "        text-align: right;\n",
       "    }\n",
       "</style>\n",
       "<table border=\"1\" class=\"dataframe\">\n",
       "  <thead>\n",
       "    <tr style=\"text-align: right;\">\n",
       "      <th></th>\n",
       "      <th>ArticleId</th>\n",
       "      <th>Text</th>\n",
       "    </tr>\n",
       "  </thead>\n",
       "  <tbody>\n",
       "    <tr>\n",
       "      <th>0</th>\n",
       "      <td>1018</td>\n",
       "      <td>qpr keeper day heads for preston queens park r...</td>\n",
       "    </tr>\n",
       "    <tr>\n",
       "      <th>1</th>\n",
       "      <td>1319</td>\n",
       "      <td>software watching while you work software that...</td>\n",
       "    </tr>\n",
       "    <tr>\n",
       "      <th>2</th>\n",
       "      <td>1138</td>\n",
       "      <td>d arcy injury adds to ireland woe gordon d arc...</td>\n",
       "    </tr>\n",
       "    <tr>\n",
       "      <th>3</th>\n",
       "      <td>459</td>\n",
       "      <td>india s reliance family feud heats up the ongo...</td>\n",
       "    </tr>\n",
       "    <tr>\n",
       "      <th>4</th>\n",
       "      <td>1020</td>\n",
       "      <td>boro suffer morrison injury blow middlesbrough...</td>\n",
       "    </tr>\n",
       "  </tbody>\n",
       "</table>\n",
       "</div>"
      ],
      "text/plain": [
       "   ArticleId                                               Text\n",
       "0       1018  qpr keeper day heads for preston queens park r...\n",
       "1       1319  software watching while you work software that...\n",
       "2       1138  d arcy injury adds to ireland woe gordon d arc...\n",
       "3        459  india s reliance family feud heats up the ongo...\n",
       "4       1020  boro suffer morrison injury blow middlesbrough..."
      ]
     },
     "execution_count": 8,
     "metadata": {},
     "output_type": "execute_result"
    }
   ],
   "source": [
    "test_df = pd.read_csv('BBC News Test.csv')\n",
    "test_df.head()"
   ]
  },
  {
   "cell_type": "markdown",
   "metadata": {},
   "source": [
    "# Training the model"
   ]
  },
  {
   "cell_type": "code",
   "execution_count": 9,
   "metadata": {},
   "outputs": [],
   "source": [
    "train_corpus = []\n",
    "for i in range(0, len(train_df)):\n",
    "    train_text = re.sub('[^a-zA-Z]', ' ', train_df['Text'][i])\n",
    "    train_text = train_text.lower()\n",
    "    train_text = train_text.split()\n",
    "    ps = PorterStemmer()\n",
    "    train_text = [ps.stem(word) for word in train_text if not word in set(stopwords.words('english'))]\n",
    "    train_text = ' '.join(train_text)\n",
    "    train_corpus.append(train_text)\n",
    "\n",
    "from sklearn.feature_extraction.text import CountVectorizer\n",
    "cv = CountVectorizer(max_features = 1500)\n",
    "X = cv.fit_transform(train_corpus).toarray()\n",
    "y = train_df.iloc[:, 2].values\n",
    "\n",
    "from sklearn.model_selection import train_test_split\n",
    "X_train, X_test, y_train, y_test = train_test_split(X, y, test_size = 0.20, random_state = 0)"
   ]
  },
  {
   "cell_type": "code",
   "execution_count": 10,
   "metadata": {},
   "outputs": [
    {
     "data": {
      "text/plain": [
       "GaussianNB(priors=None, var_smoothing=1e-09)"
      ]
     },
     "execution_count": 10,
     "metadata": {},
     "output_type": "execute_result"
    }
   ],
   "source": [
    "from sklearn.naive_bayes import GaussianNB\n",
    "classifier = GaussianNB()\n",
    "classifier.fit(X, y)"
   ]
  },
  {
   "cell_type": "code",
   "execution_count": 11,
   "metadata": {},
   "outputs": [
    {
     "name": "stdout",
     "output_type": "stream",
     "text": [
      "[[63  0  0  0  1]\n",
      " [ 0 63  0  0  0]\n",
      " [ 0  0 53  0  0]\n",
      " [ 0  0  0 65  0]\n",
      " [ 0  0  0  0 53]]\n"
     ]
    }
   ],
   "source": [
    "y_pred = classifier.predict(X_test)\n",
    "from sklearn.metrics import confusion_matrix\n",
    "cm = confusion_matrix(y_test, y_pred)\n",
    "print(cm)"
   ]
  },
  {
   "cell_type": "code",
   "execution_count": null,
   "metadata": {},
   "outputs": [],
   "source": []
  },
  {
   "cell_type": "markdown",
   "metadata": {},
   "source": [
    "# Testing the BBC News Test"
   ]
  },
  {
   "cell_type": "code",
   "execution_count": 12,
   "metadata": {},
   "outputs": [],
   "source": [
    "test_corpus = []\n",
    "for i in range(0, len(test_df)):\n",
    "    test_text = re.sub('[^a-zA-Z]', ' ', test_df['Text'][i])\n",
    "    test_text = test_text.lower()\n",
    "    test_text = test_text.split()\n",
    "    ps = PorterStemmer()\n",
    "    test_text = [ps.stem(word) for word in test_text if not word in set(stopwords.words('english'))]\n",
    "    test_text = ' '.join(test_text)\n",
    "    test_corpus.append(test_text)\n",
    "\n",
    "from sklearn.feature_extraction.text import CountVectorizer\n",
    "cv = CountVectorizer(max_features = 1500)\n",
    "testing = cv.fit_transform(test_corpus).toarray()"
   ]
  },
  {
   "cell_type": "code",
   "execution_count": 13,
   "metadata": {},
   "outputs": [],
   "source": [
    "test_pred = classifier.predict(testing)"
   ]
  },
  {
   "cell_type": "code",
   "execution_count": 14,
   "metadata": {},
   "outputs": [
    {
     "data": {
      "text/plain": [
       "array(['tech', 'tech', 'business', 'tech', 'business', 'business', 'tech',\n",
       "       'tech', 'business', 'sport', 'tech', 'tech', 'business',\n",
       "       'business', 'business', 'entertainment', 'business', 'business',\n",
       "       'entertainment', 'tech', 'tech', 'tech', 'business', 'tech',\n",
       "       'tech', 'entertainment', 'politics', 'sport', 'business', 'tech',\n",
       "       'tech', 'business', 'tech', 'tech', 'politics', 'business',\n",
       "       'business', 'tech', 'business', 'tech', 'entertainment', 'tech',\n",
       "       'entertainment', 'entertainment', 'sport', 'tech', 'entertainment',\n",
       "       'tech', 'sport', 'tech', 'politics', 'tech', 'tech', 'politics',\n",
       "       'tech', 'tech', 'tech', 'business', 'tech', 'tech', 'tech', 'tech',\n",
       "       'tech', 'politics', 'tech', 'business', 'entertainment', 'tech',\n",
       "       'business', 'tech', 'entertainment', 'entertainment', 'tech',\n",
       "       'tech', 'business', 'business', 'tech', 'tech', 'politics', 'tech',\n",
       "       'tech', 'tech', 'business', 'entertainment', 'politics',\n",
       "       'business', 'business', 'tech', 'tech', 'business', 'tech', 'tech',\n",
       "       'entertainment', 'sport', 'politics', 'tech', 'tech', 'politics',\n",
       "       'business', 'politics', 'tech', 'politics', 'politics', 'business',\n",
       "       'politics', 'business', 'tech', 'business', 'tech', 'business',\n",
       "       'business', 'politics', 'entertainment', 'business',\n",
       "       'entertainment', 'business', 'tech', 'tech', 'tech', 'business',\n",
       "       'entertainment', 'tech', 'business', 'business', 'tech', 'tech',\n",
       "       'tech', 'entertainment', 'business', 'tech', 'tech', 'tech',\n",
       "       'tech', 'tech', 'business', 'entertainment', 'entertainment',\n",
       "       'tech', 'tech', 'business', 'tech', 'business', 'tech', 'sport',\n",
       "       'tech', 'business', 'tech', 'business', 'tech', 'politics', 'tech',\n",
       "       'politics', 'tech', 'business', 'business', 'tech', 'tech', 'tech',\n",
       "       'business', 'tech', 'tech', 'tech', 'business', 'tech', 'business',\n",
       "       'tech', 'business', 'business', 'politics', 'tech', 'business',\n",
       "       'entertainment', 'tech', 'tech', 'tech', 'tech', 'entertainment',\n",
       "       'business', 'tech', 'tech', 'entertainment', 'entertainment',\n",
       "       'business', 'tech', 'tech', 'politics', 'entertainment', 'tech',\n",
       "       'tech', 'tech', 'business', 'business', 'entertainment',\n",
       "       'business', 'tech', 'tech', 'business', 'tech', 'entertainment',\n",
       "       'business', 'tech', 'entertainment', 'tech', 'tech', 'tech',\n",
       "       'tech', 'business', 'business', 'business', 'tech', 'tech', 'tech',\n",
       "       'entertainment', 'business', 'sport', 'entertainment', 'business',\n",
       "       'business', 'tech', 'business', 'politics', 'business', 'tech',\n",
       "       'tech', 'tech', 'tech', 'tech', 'politics', 'tech', 'business',\n",
       "       'entertainment', 'politics', 'entertainment', 'entertainment',\n",
       "       'tech', 'tech', 'tech', 'tech', 'business', 'entertainment',\n",
       "       'business', 'tech', 'tech', 'business', 'politics', 'tech',\n",
       "       'business', 'tech', 'politics', 'tech', 'tech', 'tech', 'tech',\n",
       "       'tech', 'business', 'entertainment', 'business', 'entertainment',\n",
       "       'entertainment', 'business', 'business', 'tech', 'business',\n",
       "       'tech', 'entertainment', 'tech', 'tech', 'tech', 'entertainment',\n",
       "       'business', 'business', 'business', 'tech', 'tech', 'business',\n",
       "       'business', 'tech', 'tech', 'tech', 'politics', 'business',\n",
       "       'business', 'business', 'tech', 'tech', 'business', 'tech',\n",
       "       'business', 'entertainment', 'tech', 'business', 'tech',\n",
       "       'business', 'tech', 'politics', 'business', 'tech', 'tech',\n",
       "       'business', 'sport', 'tech', 'business', 'politics',\n",
       "       'entertainment', 'sport', 'politics', 'tech', 'tech', 'business',\n",
       "       'tech', 'politics', 'entertainment', 'tech', 'entertainment',\n",
       "       'politics', 'business', 'tech', 'politics', 'tech',\n",
       "       'entertainment', 'entertainment', 'tech', 'entertainment', 'tech',\n",
       "       'business', 'tech', 'business', 'tech', 'tech', 'business', 'tech',\n",
       "       'entertainment', 'tech', 'tech', 'tech', 'tech', 'tech',\n",
       "       'entertainment', 'business', 'business', 'tech', 'tech', 'tech',\n",
       "       'sport', 'tech', 'entertainment', 'tech', 'politics', 'business',\n",
       "       'entertainment', 'tech', 'tech', 'business', 'business', 'tech',\n",
       "       'tech', 'tech', 'tech', 'entertainment', 'politics', 'tech',\n",
       "       'tech', 'business', 'tech', 'business', 'tech', 'entertainment',\n",
       "       'tech', 'entertainment', 'tech', 'entertainment', 'tech',\n",
       "       'entertainment', 'tech', 'business', 'business', 'tech',\n",
       "       'politics', 'politics', 'tech', 'tech', 'tech', 'business', 'tech',\n",
       "       'business', 'tech', 'business', 'business', 'politics', 'business',\n",
       "       'politics', 'business', 'sport', 'entertainment', 'politics',\n",
       "       'entertainment', 'tech', 'tech', 'entertainment', 'tech',\n",
       "       'business', 'politics', 'entertainment', 'entertainment', 'tech',\n",
       "       'tech', 'business', 'tech', 'tech', 'entertainment', 'tech',\n",
       "       'tech', 'politics', 'tech', 'tech', 'tech', 'tech', 'politics',\n",
       "       'business', 'business', 'entertainment', 'tech', 'tech', 'tech',\n",
       "       'entertainment', 'tech', 'business', 'tech', 'tech', 'politics',\n",
       "       'tech', 'business', 'business', 'politics', 'tech', 'tech',\n",
       "       'business', 'tech', 'tech', 'business', 'tech', 'business',\n",
       "       'entertainment', 'tech', 'entertainment', 'tech', 'business',\n",
       "       'business', 'tech', 'entertainment', 'entertainment', 'tech',\n",
       "       'entertainment', 'entertainment', 'tech', 'entertainment', 'tech',\n",
       "       'tech', 'tech', 'tech', 'business', 'entertainment', 'business',\n",
       "       'entertainment', 'business', 'tech', 'entertainment', 'business',\n",
       "       'tech', 'tech', 'tech', 'entertainment', 'entertainment',\n",
       "       'business', 'politics', 'tech', 'business', 'entertainment',\n",
       "       'politics', 'tech', 'business', 'tech', 'entertainment',\n",
       "       'business', 'tech', 'tech', 'tech', 'business', 'tech', 'sport',\n",
       "       'business', 'business', 'tech', 'tech', 'entertainment',\n",
       "       'entertainment', 'entertainment', 'business', 'politics',\n",
       "       'entertainment', 'tech', 'tech', 'politics', 'tech', 'tech',\n",
       "       'tech', 'business', 'politics', 'tech', 'business',\n",
       "       'entertainment', 'tech', 'tech', 'business', 'tech', 'politics',\n",
       "       'entertainment', 'business', 'tech', 'entertainment', 'business',\n",
       "       'business', 'tech', 'business', 'tech', 'tech', 'business', 'tech',\n",
       "       'business', 'tech', 'tech', 'tech', 'entertainment',\n",
       "       'entertainment', 'tech', 'entertainment', 'tech', 'business',\n",
       "       'business', 'entertainment', 'business', 'tech', 'business',\n",
       "       'tech', 'tech', 'entertainment', 'tech', 'tech', 'entertainment',\n",
       "       'tech', 'tech', 'business', 'tech', 'business', 'business',\n",
       "       'entertainment', 'tech', 'business', 'entertainment', 'tech',\n",
       "       'tech', 'tech', 'tech', 'business', 'tech', 'tech', 'business',\n",
       "       'business', 'tech', 'entertainment', 'business', 'entertainment',\n",
       "       'tech', 'business', 'tech', 'entertainment', 'entertainment',\n",
       "       'tech', 'tech', 'business', 'entertainment', 'politics',\n",
       "       'business', 'business', 'tech', 'business', 'business', 'tech',\n",
       "       'business', 'tech', 'business', 'entertainment', 'tech', 'tech',\n",
       "       'tech', 'business', 'business', 'tech', 'tech', 'tech', 'tech',\n",
       "       'tech', 'politics', 'business', 'entertainment', 'entertainment',\n",
       "       'business', 'business', 'entertainment', 'business', 'tech',\n",
       "       'tech', 'business', 'politics', 'entertainment', 'business',\n",
       "       'tech', 'tech', 'business', 'entertainment', 'tech',\n",
       "       'entertainment', 'politics', 'tech', 'tech', 'tech', 'tech',\n",
       "       'business', 'business', 'business', 'entertainment', 'tech',\n",
       "       'business', 'tech', 'tech', 'tech', 'tech', 'politics',\n",
       "       'entertainment', 'politics', 'tech', 'tech', 'tech', 'politics',\n",
       "       'tech', 'entertainment', 'business', 'entertainment', 'business',\n",
       "       'business', 'business', 'business', 'entertainment', 'sport',\n",
       "       'sport', 'tech', 'business', 'tech', 'politics', 'politics',\n",
       "       'tech', 'tech', 'tech', 'tech', 'entertainment', 'business',\n",
       "       'entertainment', 'entertainment', 'tech', 'politics',\n",
       "       'entertainment', 'tech', 'business', 'tech', 'entertainment',\n",
       "       'tech', 'tech', 'tech', 'entertainment', 'sport', 'business',\n",
       "       'business', 'business', 'tech', 'politics', 'politics', 'business',\n",
       "       'business', 'business', 'tech', 'tech', 'business', 'business',\n",
       "       'business', 'business', 'business', 'tech', 'entertainment',\n",
       "       'business', 'tech', 'politics', 'business', 'tech', 'tech',\n",
       "       'business', 'tech', 'politics', 'business', 'tech', 'business',\n",
       "       'business', 'tech', 'tech', 'tech', 'business', 'tech', 'tech',\n",
       "       'entertainment', 'tech', 'politics', 'entertainment', 'tech',\n",
       "       'entertainment', 'tech', 'tech', 'tech', 'tech', 'tech',\n",
       "       'politics', 'business', 'politics', 'business', 'tech', 'business',\n",
       "       'business'], dtype='<U13')"
      ]
     },
     "execution_count": 14,
     "metadata": {},
     "output_type": "execute_result"
    }
   ],
   "source": [
    "test_pred"
   ]
  },
  {
   "cell_type": "code",
   "execution_count": 17,
   "metadata": {},
   "outputs": [],
   "source": [
    "test_df['Classified Categories'] = test_pred"
   ]
  },
  {
   "cell_type": "code",
   "execution_count": 24,
   "metadata": {},
   "outputs": [
    {
     "data": {
      "text/html": [
       "<div>\n",
       "<style scoped>\n",
       "    .dataframe tbody tr th:only-of-type {\n",
       "        vertical-align: middle;\n",
       "    }\n",
       "\n",
       "    .dataframe tbody tr th {\n",
       "        vertical-align: top;\n",
       "    }\n",
       "\n",
       "    .dataframe thead th {\n",
       "        text-align: right;\n",
       "    }\n",
       "</style>\n",
       "<table border=\"1\" class=\"dataframe\">\n",
       "  <thead>\n",
       "    <tr style=\"text-align: right;\">\n",
       "      <th></th>\n",
       "      <th>ArticleId</th>\n",
       "      <th>Text</th>\n",
       "      <th>Categories</th>\n",
       "      <th>Classified Categories</th>\n",
       "    </tr>\n",
       "  </thead>\n",
       "  <tbody>\n",
       "    <tr>\n",
       "      <th>0</th>\n",
       "      <td>1018</td>\n",
       "      <td>qpr keeper day heads for preston queens park r...</td>\n",
       "      <td>tech</td>\n",
       "      <td>tech</td>\n",
       "    </tr>\n",
       "    <tr>\n",
       "      <th>1</th>\n",
       "      <td>1319</td>\n",
       "      <td>software watching while you work software that...</td>\n",
       "      <td>tech</td>\n",
       "      <td>tech</td>\n",
       "    </tr>\n",
       "    <tr>\n",
       "      <th>2</th>\n",
       "      <td>1138</td>\n",
       "      <td>d arcy injury adds to ireland woe gordon d arc...</td>\n",
       "      <td>business</td>\n",
       "      <td>business</td>\n",
       "    </tr>\n",
       "    <tr>\n",
       "      <th>3</th>\n",
       "      <td>459</td>\n",
       "      <td>india s reliance family feud heats up the ongo...</td>\n",
       "      <td>tech</td>\n",
       "      <td>tech</td>\n",
       "    </tr>\n",
       "    <tr>\n",
       "      <th>4</th>\n",
       "      <td>1020</td>\n",
       "      <td>boro suffer morrison injury blow middlesbrough...</td>\n",
       "      <td>business</td>\n",
       "      <td>business</td>\n",
       "    </tr>\n",
       "  </tbody>\n",
       "</table>\n",
       "</div>"
      ],
      "text/plain": [
       "   ArticleId                                               Text Categories  \\\n",
       "0       1018  qpr keeper day heads for preston queens park r...       tech   \n",
       "1       1319  software watching while you work software that...       tech   \n",
       "2       1138  d arcy injury adds to ireland woe gordon d arc...   business   \n",
       "3        459  india s reliance family feud heats up the ongo...       tech   \n",
       "4       1020  boro suffer morrison injury blow middlesbrough...   business   \n",
       "\n",
       "  Classified Categories  \n",
       "0                  tech  \n",
       "1                  tech  \n",
       "2              business  \n",
       "3                  tech  \n",
       "4              business  "
      ]
     },
     "execution_count": 24,
     "metadata": {},
     "output_type": "execute_result"
    }
   ],
   "source": [
    "test_df.head()"
   ]
  },
  {
   "cell_type": "code",
   "execution_count": null,
   "metadata": {},
   "outputs": [],
   "source": []
  },
  {
   "cell_type": "code",
   "execution_count": null,
   "metadata": {},
   "outputs": [],
   "source": []
  }
 ],
 "metadata": {
  "kernelspec": {
   "display_name": "Python 3",
   "language": "python",
   "name": "python3"
  },
  "language_info": {
   "codemirror_mode": {
    "name": "ipython",
    "version": 3
   },
   "file_extension": ".py",
   "mimetype": "text/x-python",
   "name": "python",
   "nbconvert_exporter": "python",
   "pygments_lexer": "ipython3",
   "version": "3.7.6"
  }
 },
 "nbformat": 4,
 "nbformat_minor": 4
}
